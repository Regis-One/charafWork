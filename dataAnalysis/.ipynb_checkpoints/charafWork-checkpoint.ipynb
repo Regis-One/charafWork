{
 "cells": [
  {
   "cell_type": "code",
   "execution_count": 2,
   "id": "0a54d7f3",
   "metadata": {},
   "outputs": [],
   "source": [
    "import pandas as pd \n",
    "import matplotlib.pyplot as plt"
   ]
  },
  {
   "cell_type": "code",
   "execution_count": 3,
   "id": "c0b5d213",
   "metadata": {},
   "outputs": [],
   "source": [
    "file_path = \"most-productive-countries-2023.csv\"\n",
    "df = pd.read_csv(file_path)\n",
    "df[\"gdpPC\"] = pd.to_numeric(df[\"gdpPC\"], errors='coerce')  # 'coerce' to handle invalid values\n",
    "df[\"prod19\"] = pd.to_numeric(df[\"prod19\"], errors='coerce')  # 'coerce' to handle invalid values\n",
    "df[\"gdpHW\"] = pd.to_numeric(df[\"gdpHW\"], errors='coerce')  # 'coerce' to handle invalid values\n",
    "df[\"gdpPPE\"] = pd.to_numeric(df[\"gdpPPE\"], errors='coerce')  # 'coerce' to handle invalid values\n",
    "df.reset_index(drop=True, inplace=True)"
   ]
  },
  {
   "cell_type": "code",
   "execution_count": 37,
   "id": "c177ea62",
   "metadata": {},
   "outputs": [],
   "source": [
    "averageGdpPC =  df[\"gdpPC\"].sum() / df[\"country\"].count()\n",
    "averageGdpHW =  df[\"gdpHW\"].sum() / df[\"country\"].count()"
   ]
  },
  {
   "cell_type": "code",
   "execution_count": 45,
   "id": "63925923",
   "metadata": {},
   "outputs": [
    {
     "data": {
      "text/plain": [
       "'34% of total countries have a gdp per capita above average of $23532'"
      ]
     },
     "execution_count": 45,
     "metadata": {},
     "output_type": "execute_result"
    }
   ],
   "source": [
    "f'{int(df[df[\"gdpPC\"] > averageGdpPC].count()[\"country\"] / df[\"country\"].count() * 100)}% of total countries have a gdp per capita above average of ${int(averageGdpPC)}'\n"
   ]
  },
  {
   "cell_type": "code",
   "execution_count": 42,
   "id": "a18c232c",
   "metadata": {},
   "outputs": [
    {
     "data": {
      "text/plain": [
       "'20% of total countries have a gdp per hour worked above average'"
      ]
     },
     "execution_count": 42,
     "metadata": {},
     "output_type": "execute_result"
    }
   ],
   "source": [
    "f'{int(df[df[\"gdpHW\"] > averageGdpHW].count()[\"country\"] / df[\"country\"].count() * 100)}% of total countries have a gdp per hour worked above average {averageGdpHW} hours' "
   ]
  },
  {
   "cell_type": "code",
   "execution_count": null,
   "id": "cad9e778",
   "metadata": {},
   "outputs": [],
   "source": []
  },
  {
   "cell_type": "code",
   "execution_count": 39,
   "id": "5ca03e06",
   "metadata": {},
   "outputs": [
    {
     "data": {
      "text/plain": [
       "Text(0.5, 0, 'Countries')"
      ]
     },
     "execution_count": 39,
     "metadata": {},
     "output_type": "execute_result"
    },
    {
     "data": {
      "image/png": "[encoded data removed]",
      "text/plain": [
       "<Figure size 720x432 with 1 Axes>"
      ]
     },
     "metadata": {
      "needs_background": "light"
     },
     "output_type": "display_data"
    }
   ],
   "source": [
    "plt.figure(figsize=(10, 6))  # Adjust width and height as needed\n",
    "plt.bar(df[\"country\"].head(), df[\"gdpHW\"].head())\n",
    "plt.ylabel(\"GDP per hour worked\")\n",
    "plt.xlabel(\"Countries\")\n",
    "\n"
   ]
  },
  {
   "cell_type": "code",
   "execution_count": null,
   "id": "1e84caa8",
   "metadata": {},
   "outputs": [],
   "source": []
  },
  {
   "cell_type": "code",
   "execution_count": null,
   "id": "1e8d35a1",
   "metadata": {},
   "outputs": [],
   "source": []
  },
  {
   "cell_type": "code",
   "execution_count": null,
   "id": "a2fb4214",
   "metadata": {},
   "outputs": [],
   "source": []
  },
  {
   "cell_type": "code",
   "execution_count": null,
   "id": "95f5ceeb",
   "metadata": {},
   "outputs": [],
   "source": []
  }
 ],
 "metadata": {
  "kernelspec": {
   "display_name": "Python 3 (ipykernel)",
   "language": "python",
   "name": "python3"
  },
  "language_info": {
   "codemirror_mode": {
    "name": "ipython",
    "version": 3
   },
   "file_extension": ".py",
   "mimetype": "text/x-python",
   "name": "python",
   "nbconvert_exporter": "python",
   "pygments_lexer": "ipython3",
   "version": "3.9.12"
  }
 },
 "nbformat": 4,
 "nbformat_minor": 5
}
